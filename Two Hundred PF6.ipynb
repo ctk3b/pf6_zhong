{
 "cells": [
  {
   "cell_type": "code",
   "execution_count": 1,
   "metadata": {
    "collapsed": true
   },
   "outputs": [],
   "source": [
    "import mbuild as mb\n",
    "\n",
    "class PF6(mb.Compound):\n",
    "    def __init__(self):\n",
    "        super(PF6, self).__init__()\n",
    "\n",
    "        mb.load('PF6.pdb', compound=self)\n",
    "        mb.translate(self, -self[0].pos)  # Move carbon to origin."
   ]
  },
  {
   "cell_type": "code",
   "execution_count": 2,
   "metadata": {
    "collapsed": false
   },
   "outputs": [],
   "source": [
    "first_molecule = PF6()\n",
    "first_molecule.visualize()"
   ]
  },
  {
   "cell_type": "code",
   "execution_count": 3,
   "metadata": {
    "collapsed": false
   },
   "outputs": [],
   "source": [
    "class PF6Box(mb.Compound):\n",
    "    def __init__(self):\n",
    "        super(PF6Box, self).__init__()\n",
    "        one_pf6 = mb.Compound()\n",
    "        one_pf6.add(PF6())\n",
    "\n",
    "        for i in range(0,6):\n",
    "            for j in range(0,6):\n",
    "                for k in range(0,6):\n",
    "                    next_pf6 = mb.clone(one_pf6)\n",
    "                    pos = [0.5*i,0.5*j,0.5*k]\n",
    "                    mb.translate(next_pf6, pos)\n",
    "                    self.add(next_pf6)\n",
    "                    \n",
    "whole_box = PF6Box()\n",
    "whole_box.visualize()             \n",
    "\n"
   ]
  },
  {
   "cell_type": "code",
   "execution_count": 4,
   "metadata": {
    "collapsed": false
   },
   "outputs": [
    {
     "name": "stdout",
     "output_type": "stream",
     "text": [
      "done\n"
     ]
    }
   ],
   "source": [
    "# Save as .mol2 file\n",
    "whole_box.save('PF6_box.xyz', overwrite=True)\n",
    "print('done')"
   ]
  },
  {
   "cell_type": "code",
   "execution_count": null,
   "metadata": {
    "collapsed": true
   },
   "outputs": [],
   "source": []
  }
 ],
 "metadata": {
  "kernelspec": {
   "display_name": "Python 2",
   "language": "python",
   "name": "python2"
  },
  "language_info": {
   "codemirror_mode": {
    "name": "ipython",
    "version": 2
   },
   "file_extension": ".py",
   "mimetype": "text/x-python",
   "name": "python",
   "nbconvert_exporter": "python",
   "pygments_lexer": "ipython2",
   "version": "2.7.13"
  }
 },
 "nbformat": 4,
 "nbformat_minor": 2
}
